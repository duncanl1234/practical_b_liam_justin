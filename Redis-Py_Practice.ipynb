{
 "cells": [
  {
   "cell_type": "code",
   "execution_count": 8,
   "metadata": {},
   "outputs": [],
   "source": [
    "import redis\n",
    "import os\n",
    "fr\n",
    "r = redis.Redis(host='localhost', port=6379, db=0,decode_responses=True)"
   ]
  },
  {
   "cell_type": "code",
   "execution_count": 9,
   "metadata": {},
   "outputs": [
    {
     "name": "stdout",
     "output_type": "stream",
     "text": [
      "click count = 0\n",
      "click count = 1\n"
     ]
    }
   ],
   "source": [
    "r.set('clickCount:/abc', 0)\n",
    "val = r.get('clickCount:/abc')\n",
    "print(f'click count = {val}')\n",
    "r.incr('clickCount:/abc')\n",
    "ret_val = r.get('clickCount:/abc')\n",
    "print(f'click count = {ret_val}')\n"
   ]
  },
  {
   "cell_type": "code",
   "execution_count": 10,
   "metadata": {},
   "outputs": [
    {
     "name": "stdout",
     "output_type": "stream",
     "text": [
      "['val1', 'val2', 'val3']\n"
     ]
    }
   ],
   "source": [
    "r.mset({'key1': 'val1', \n",
    "                   'key2': 'val2', \n",
    "                   'key3': 'val3'})\n",
    "print(r.mget('key1', \n",
    "             'key2', \n",
    "             'key3'))\n"
   ]
  },
  {
   "cell_type": "code",
   "execution_count": 11,
   "metadata": {},
   "outputs": [
    {
     "name": "stdout",
     "output_type": "stream",
     "text": [
      "{'first': 'Sam', 'last': 'Uelle', 'company': 'Redis', 'age': '30'}\n"
     ]
    }
   ],
   "source": [
    "r.hset('user-session:123',  \n",
    "     mapping={'first': 'Sam',\n",
    "              'last': 'Uelle',\n",
    "              'company': 'Redis',\n",
    "              'age': 30\n",
    "})\n",
    "\n",
    "# prints:\n",
    "#{'name': 'Sam', 'surname': 'Uelle', 'company': 'Redis', 'age': '30'}\n",
    "print(r.hgetall('user-session:123'))\n"
   ]
  },
  {
   "cell_type": "code",
   "execution_count": 12,
   "metadata": {},
   "outputs": [
    {
     "ename": "SyntaxError",
     "evalue": "invalid character '”' (U+201D) (3823779396.py, line 5)",
     "output_type": "error",
     "traceback": [
      "\u001b[1;36m  Cell \u001b[1;32mIn[12], line 5\u001b[1;36m\u001b[0m\n\u001b[1;33m    print(f”Loading data from {dirs}“)\u001b[0m\n\u001b[1;37m           ^\u001b[0m\n\u001b[1;31mSyntaxError\u001b[0m\u001b[1;31m:\u001b[0m invalid character '”' (U+201D)\n"
     ]
    }
   ],
   "source": [
    "timing_directory = \"/Users/Liam/Documents/Python/Large Data Storage and Retrieval/USFinancialNewsArticles-preprocessed/USFinancialNewsArticles-preprocessed/March2018\"\n",
    "\n",
    "key_value = {}\n",
    "for root, dirs, files in os.walk(timing_directory):\n",
    "    print(f'Loading data from {dirs}')\n",
    "    for filename in files:\n",
    "        if filename != ''.DS_Store':\n",
    "            if filename.endswith('.json'):\n",
    "                with open(os.path.join(root, filename), 'r', encoding='latin-1') as f:\n",
    "                    # Read content of file\n",
    "                    the_json = json.loads(f.read())\n",
    "                    words = set(the_json['preprocessed_text'])\n",
    "                    domain = urlparse(the_json['url']).netloc  # Extracts ‘www.domain.com’\n",
    "                    # Remove ‘www.’ if present\n",
    "                    clean_domain = domain.replace('www.', '')\n",
    "                    # print(words)\n",
    "                    for word in words:\n",
    "                        if key_value.get(word) == None:\n",
    "                            key_value[word] = [[the_json['title'], clean_domain, the_json['author']]]\n",
    "                            # print(f”the word ‘{word}’ has been retrieved”)\n",
    "                        else:\n",
    "                            key_value[word].append([the_json['title'], clean_domain, the_json['author']])"
   ]
  },
  {
   "cell_type": "code",
   "execution_count": null,
   "metadata": {},
   "outputs": [],
   "source": [
    "for k in key_value.keys():\n",
    "    r.set(keys[k], key_value[keys[k]])"
   ]
  }
 ],
 "metadata": {
  "kernelspec": {
   "display_name": "Python 3",
   "language": "python",
   "name": "python3"
  },
  "language_info": {
   "codemirror_mode": {
    "name": "ipython",
    "version": 3
   },
   "file_extension": ".py",
   "mimetype": "text/x-python",
   "name": "python",
   "nbconvert_exporter": "python",
   "pygments_lexer": "ipython3",
   "version": "3.13.1"
  }
 },
 "nbformat": 4,
 "nbformat_minor": 2
}
